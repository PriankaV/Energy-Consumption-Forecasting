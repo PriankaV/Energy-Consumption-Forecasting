{
 "cells": [
  {
   "cell_type": "markdown",
   "metadata": {},
   "source": [
    "# Line Plot"
   ]
  },
  {
   "cell_type": "code",
   "execution_count": 1,
   "metadata": {},
   "outputs": [
    {
     "ename": "NameError",
     "evalue": "name 'combined_df' is not defined",
     "output_type": "error",
     "traceback": [
      "\u001b[1;31m---------------------------------------------------------------------------\u001b[0m",
      "\u001b[1;31mNameError\u001b[0m                                 Traceback (most recent call last)",
      "Cell \u001b[1;32mIn[1], line 6\u001b[0m\n\u001b[0;32m      2\u001b[0m \u001b[38;5;28;01mimport\u001b[39;00m \u001b[38;5;21;01mmatplotlib\u001b[39;00m\u001b[38;5;21;01m.\u001b[39;00m\u001b[38;5;21;01mpyplot\u001b[39;00m \u001b[38;5;28;01mas\u001b[39;00m \u001b[38;5;21;01mplt\u001b[39;00m\n\u001b[0;32m      4\u001b[0m \u001b[38;5;66;03m# Assuming combined_df contains data for all regions\u001b[39;00m\n\u001b[0;32m      5\u001b[0m \u001b[38;5;66;03m# Ensure 'Datetime' column is in datetime format\u001b[39;00m\n\u001b[1;32m----> 6\u001b[0m combined_df[\u001b[38;5;124m'\u001b[39m\u001b[38;5;124mDatetime\u001b[39m\u001b[38;5;124m'\u001b[39m] \u001b[38;5;241m=\u001b[39m pd\u001b[38;5;241m.\u001b[39mto_datetime(\u001b[43mcombined_df\u001b[49m[\u001b[38;5;124m'\u001b[39m\u001b[38;5;124mDatetime\u001b[39m\u001b[38;5;124m'\u001b[39m])\n\u001b[0;32m      8\u001b[0m \u001b[38;5;66;03m# Extract the 'Year' column from the 'Datetime'\u001b[39;00m\n\u001b[0;32m      9\u001b[0m combined_df[\u001b[38;5;124m'\u001b[39m\u001b[38;5;124mYear\u001b[39m\u001b[38;5;124m'\u001b[39m] \u001b[38;5;241m=\u001b[39m combined_df[\u001b[38;5;124m'\u001b[39m\u001b[38;5;124mDatetime\u001b[39m\u001b[38;5;124m'\u001b[39m]\u001b[38;5;241m.\u001b[39mdt\u001b[38;5;241m.\u001b[39myear\n",
      "\u001b[1;31mNameError\u001b[0m: name 'combined_df' is not defined"
     ]
    }
   ],
   "source": [
    "import pandas as pd\n",
    "import matplotlib.pyplot as plt\n",
    "\n",
    "# Assuming combined_df contains data for all regions\n",
    "# Ensure 'Datetime' column is in datetime format\n",
    "combined_df['Datetime'] = pd.to_datetime(combined_df['Datetime'])\n",
    "\n",
    "# Extract the 'Year' column from the 'Datetime'\n",
    "combined_df['Year'] = combined_df['Datetime'].dt.year\n",
    "\n",
    "# List of regions/utility columns\n",
    "regions = ['AEP_MW', 'COMED_MW', 'DAYTON_MW', 'DEOK_MW', \n",
    "           'DOM_MW', 'DUK_MW', 'EKPC_MW', 'FE_MW', \n",
    "           'NI_MW', 'PJM_Load_MW', 'PJME_MW', 'PJMW_MW']\n",
    "\n",
    "# Create a line plot for each region\n",
    "plt.figure(figsize=(15, 10))  # Adjust figure size for clarity\n",
    "\n",
    "for region in regions:\n",
    "    if region in combined_df.columns:  # Check if the region exists in the dataset\n",
    "        # Group by 'Year' and calculate the average energy consumption for the region\n",
    "        region_data = combined_df.groupby('Year')[region].mean()\n",
    "        \n",
    "        # Plot the data\n",
    "        plt.plot(region_data.index, region_data.values, label=region)\n",
    "\n",
    "# Add plot details\n",
    "plt.title('Yearly Average Energy Consumption by Region', fontsize=16)\n",
    "plt.xlabel('Year', fontsize=12)\n",
    "plt.ylabel('Average Energy Consumption (MW)', fontsize=12)\n",
    "plt.legend(title='Regions', loc='upper left', bbox_to_anchor=(1, 1))  # Legend outside the plot\n",
    "plt.grid(True)\n",
    "plt.tight_layout()\n",
    "plt.show()"
   ]
  },
  {
   "cell_type": "code",
   "execution_count": null,
   "metadata": {},
   "outputs": [],
   "source": []
  }
 ],
 "metadata": {
  "kernelspec": {
   "display_name": "Python 3",
   "language": "python",
   "name": "python3"
  },
  "language_info": {
   "codemirror_mode": {
    "name": "ipython",
    "version": 3
   },
   "file_extension": ".py",
   "mimetype": "text/x-python",
   "name": "python",
   "nbconvert_exporter": "python",
   "pygments_lexer": "ipython3",
   "version": "3.10.11"
  }
 },
 "nbformat": 4,
 "nbformat_minor": 2
}
